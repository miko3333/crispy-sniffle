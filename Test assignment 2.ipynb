{
 "cells": [
  {
   "cell_type": "code",
   "execution_count": 1,
   "metadata": {},
   "outputs": [],
   "source": [
    "import pandas as pd\n",
    "import numpy as np\n",
    "from pandas import DataFrame, Series\n",
    "%matplotlib inline\n",
    "import matplotlib.pyplot as plt"
   ]
  },
  {
   "cell_type": "code",
   "execution_count": 2,
   "metadata": {},
   "outputs": [
    {
     "name": "stdout",
     "output_type": "stream",
     "text": [
      "Wall time: 46.1 s\n"
     ]
    }
   ],
   "source": [
    "%%time\n",
    "data = pd.read_csv('C:/Users/Nick/Data/clk1day.csv')"
   ]
  },
  {
   "cell_type": "code",
   "execution_count": 3,
   "metadata": {},
   "outputs": [],
   "source": [
    "pd.options.display.max_columns = 40\n",
    "sample_data = data.sample(n=12000)"
   ]
  },
  {
   "cell_type": "code",
   "execution_count": 4,
   "metadata": {},
   "outputs": [
    {
     "data": {
      "text/html": [
       "<div>\n",
       "<style scoped>\n",
       "    .dataframe tbody tr th:only-of-type {\n",
       "        vertical-align: middle;\n",
       "    }\n",
       "\n",
       "    .dataframe tbody tr th {\n",
       "        vertical-align: top;\n",
       "    }\n",
       "\n",
       "    .dataframe thead th {\n",
       "        text-align: right;\n",
       "    }\n",
       "</style>\n",
       "<table border=\"1\" class=\"dataframe\">\n",
       "  <thead>\n",
       "    <tr style=\"text-align: right;\">\n",
       "      <th></th>\n",
       "      <th>Unnamed: 0</th>\n",
       "      <th>SessionId</th>\n",
       "      <th>CampaignId</th>\n",
       "      <th>BannerId</th>\n",
       "      <th>AdWidth</th>\n",
       "      <th>AdHeight</th>\n",
       "      <th>BannerWidth</th>\n",
       "      <th>BannerHeight</th>\n",
       "      <th>VisitorId</th>\n",
       "      <th>ThirdPartyVisitorId</th>\n",
       "      <th>AdvertiserId</th>\n",
       "      <th>LandingDomain</th>\n",
       "      <th>BannerType</th>\n",
       "      <th>ConnectionType</th>\n",
       "      <th>PlacementCategories</th>\n",
       "      <th>PlacementViewability</th>\n",
       "      <th>TimezoneOffset</th>\n",
       "      <th>ScreenWidth</th>\n",
       "      <th>ScreenHeight</th>\n",
       "      <th>AppCategory</th>\n",
       "      <th>Language</th>\n",
       "      <th>PublisherId</th>\n",
       "      <th>SiteId</th>\n",
       "      <th>PlacementId</th>\n",
       "      <th>Domain</th>\n",
       "      <th>AppId</th>\n",
       "      <th>DeviceType</th>\n",
       "      <th>DeviceCarrier</th>\n",
       "      <th>DeviceModel</th>\n",
       "      <th>Os</th>\n",
       "      <th>OsVersion</th>\n",
       "      <th>Ip</th>\n",
       "      <th>Browser</th>\n",
       "      <th>BrowserVersion</th>\n",
       "      <th>Country</th>\n",
       "      <th>Region</th>\n",
       "      <th>Sity</th>\n",
       "      <th>Gender</th>\n",
       "      <th>SspId</th>\n",
       "      <th>click</th>\n",
       "    </tr>\n",
       "  </thead>\n",
       "  <tbody>\n",
       "    <tr>\n",
       "      <th>0</th>\n",
       "      <td>0</td>\n",
       "      <td>60B016E3CF5E2E7277D72260B1086958</td>\n",
       "      <td>5a4a49bc7bc72fabc012f95b</td>\n",
       "      <td>5a4a49bd7bc72fabc012fe0a</td>\n",
       "      <td>240.0</td>\n",
       "      <td>400.0</td>\n",
       "      <td>NaN</td>\n",
       "      <td>NaN</td>\n",
       "      <td>5fa4061c2102a296784a</td>\n",
       "      <td>16360078791187348565</td>\n",
       "      <td>5a3231e17bc72f3644ba8232</td>\n",
       "      <td>NaN</td>\n",
       "      <td>display</td>\n",
       "      <td>NaN</td>\n",
       "      <td>()</td>\n",
       "      <td>NaN</td>\n",
       "      <td>0.0</td>\n",
       "      <td>NaN</td>\n",
       "      <td>NaN</td>\n",
       "      <td>NaN</td>\n",
       "      <td>NaN</td>\n",
       "      <td>NaN</td>\n",
       "      <td>92550</td>\n",
       "      <td>240400yandex.kz</td>\n",
       "      <td>yandex.kz</td>\n",
       "      <td>NaN</td>\n",
       "      <td>Desktop</td>\n",
       "      <td>NaN</td>\n",
       "      <td>NaN</td>\n",
       "      <td>Windows</td>\n",
       "      <td>6.1</td>\n",
       "      <td>1.428004e+09</td>\n",
       "      <td>YandexBrowser</td>\n",
       "      <td>17.11.1.988</td>\n",
       "      <td>535d61c0000064000200007f</td>\n",
       "      <td>59e76a77fb356c24148f0dc4</td>\n",
       "      <td>59e8474c5e187f0f802b1d56</td>\n",
       "      <td>Woman</td>\n",
       "      <td>24</td>\n",
       "      <td>0</td>\n",
       "    </tr>\n",
       "    <tr>\n",
       "      <th>1</th>\n",
       "      <td>1</td>\n",
       "      <td>8410FB64E3BFABD92D98C219104D6F80</td>\n",
       "      <td>5a44a74b7bc72f79bc1da1c2</td>\n",
       "      <td>5a44a74c7bc72f79bc1da242</td>\n",
       "      <td>240.0</td>\n",
       "      <td>400.0</td>\n",
       "      <td>NaN</td>\n",
       "      <td>NaN</td>\n",
       "      <td>01a5bd56271580e99245</td>\n",
       "      <td>480BFB94C5C4315A3105C9B3025AE106</td>\n",
       "      <td>53fee321af55cd917ceedfad</td>\n",
       "      <td>NaN</td>\n",
       "      <td>display</td>\n",
       "      <td>NaN</td>\n",
       "      <td>('IAB1',)</td>\n",
       "      <td>NaN</td>\n",
       "      <td>-10.0</td>\n",
       "      <td>1920.0</td>\n",
       "      <td>1080.0</td>\n",
       "      <td>NaN</td>\n",
       "      <td>ru-RU</td>\n",
       "      <td>NaN</td>\n",
       "      <td>80020</td>\n",
       "      <td>375976</td>\n",
       "      <td>kinogb.club</td>\n",
       "      <td>NaN</td>\n",
       "      <td>NaN</td>\n",
       "      <td>NaN</td>\n",
       "      <td>NaN</td>\n",
       "      <td>Linux</td>\n",
       "      <td>NaN</td>\n",
       "      <td>1.294078e+09</td>\n",
       "      <td>Chrome</td>\n",
       "      <td>38.0.2125.122</td>\n",
       "      <td>535d61c000006400020000c1</td>\n",
       "      <td>535d61c000006400020010e9</td>\n",
       "      <td>535d61c00000640002002d7e</td>\n",
       "      <td>NaN</td>\n",
       "      <td>106</td>\n",
       "      <td>0</td>\n",
       "    </tr>\n",
       "    <tr>\n",
       "      <th>2</th>\n",
       "      <td>2</td>\n",
       "      <td>8E53D40FF207AEC423A514F84FD27D31</td>\n",
       "      <td>5a54bfa34d506ecdf013f23f</td>\n",
       "      <td>5a54bfa34d506ecdf013f241</td>\n",
       "      <td>160.0</td>\n",
       "      <td>600.0</td>\n",
       "      <td>NaN</td>\n",
       "      <td>NaN</td>\n",
       "      <td>NaN</td>\n",
       "      <td>6109658587852775278</td>\n",
       "      <td>59ccbeb14d506e70c44ffe45</td>\n",
       "      <td>NaN</td>\n",
       "      <td>display</td>\n",
       "      <td>NaN</td>\n",
       "      <td>('IAB19-18',)</td>\n",
       "      <td>NaN</td>\n",
       "      <td>0.0</td>\n",
       "      <td>NaN</td>\n",
       "      <td>NaN</td>\n",
       "      <td>NaN</td>\n",
       "      <td>NaN</td>\n",
       "      <td>346282</td>\n",
       "      <td>666469</td>\n",
       "      <td>4180379</td>\n",
       "      <td>skype.com</td>\n",
       "      <td>NaN</td>\n",
       "      <td>Desktop</td>\n",
       "      <td>unknown</td>\n",
       "      <td>unknown</td>\n",
       "      <td>Windows</td>\n",
       "      <td>6.2</td>\n",
       "      <td>2.152046e+09</td>\n",
       "      <td>InternetExplorer</td>\n",
       "      <td>10.0</td>\n",
       "      <td>535d61c000006400020000c1</td>\n",
       "      <td>535d61c000006400020010de</td>\n",
       "      <td>59e8474c5e187f0f802b0f6f</td>\n",
       "      <td>NaN</td>\n",
       "      <td>110</td>\n",
       "      <td>0</td>\n",
       "    </tr>\n",
       "    <tr>\n",
       "      <th>3</th>\n",
       "      <td>3</td>\n",
       "      <td>90AEB8E6F1DD75EC1C7472A6E924617A</td>\n",
       "      <td>59e7d5034d506e4dbca44cef</td>\n",
       "      <td>59e7d5034d506e4dbca44cf1</td>\n",
       "      <td>728.0</td>\n",
       "      <td>90.0</td>\n",
       "      <td>NaN</td>\n",
       "      <td>NaN</td>\n",
       "      <td>707dad23343584551441</td>\n",
       "      <td>7357370e-c32b-4692-a1c9-a50811ba1449</td>\n",
       "      <td>59d175027bc72f805c0b0e44</td>\n",
       "      <td>NaN</td>\n",
       "      <td>display</td>\n",
       "      <td>NaN</td>\n",
       "      <td>('IAB9-30',)</td>\n",
       "      <td>NaN</td>\n",
       "      <td>-10.0</td>\n",
       "      <td>1536.0</td>\n",
       "      <td>864.0</td>\n",
       "      <td>NaN</td>\n",
       "      <td>ru</td>\n",
       "      <td>19486</td>\n",
       "      <td>17281</td>\n",
       "      <td>72890rare.ru0</td>\n",
       "      <td>rare.ru</td>\n",
       "      <td>NaN</td>\n",
       "      <td>Desktop</td>\n",
       "      <td>NaN</td>\n",
       "      <td>NaN</td>\n",
       "      <td>Windows</td>\n",
       "      <td>10.0</td>\n",
       "      <td>3.579276e+09</td>\n",
       "      <td>Chrome</td>\n",
       "      <td>63.0.3239.132</td>\n",
       "      <td>535d61c000006400020000c1</td>\n",
       "      <td>535d61c000006400020010e9</td>\n",
       "      <td>535d61c00000640002002d6f</td>\n",
       "      <td>NaN</td>\n",
       "      <td>25</td>\n",
       "      <td>0</td>\n",
       "    </tr>\n",
       "    <tr>\n",
       "      <th>4</th>\n",
       "      <td>4</td>\n",
       "      <td>A7186B9A86692ADE5D82E6FA43F77F31</td>\n",
       "      <td>5a44abf67bc72f79bc1da2d8</td>\n",
       "      <td>5a44abf67bc72f79bc1da2de</td>\n",
       "      <td>300.0</td>\n",
       "      <td>250.0</td>\n",
       "      <td>NaN</td>\n",
       "      <td>NaN</td>\n",
       "      <td>0a563cdd481a8e889842</td>\n",
       "      <td>4213680716627765533</td>\n",
       "      <td>53fee321af55cd917ceedfad</td>\n",
       "      <td>NaN</td>\n",
       "      <td>display</td>\n",
       "      <td>NaN</td>\n",
       "      <td>()</td>\n",
       "      <td>NaN</td>\n",
       "      <td>0.0</td>\n",
       "      <td>NaN</td>\n",
       "      <td>NaN</td>\n",
       "      <td>NaN</td>\n",
       "      <td>NaN</td>\n",
       "      <td>NaN</td>\n",
       "      <td>104220</td>\n",
       "      <td>300250yadi.sk</td>\n",
       "      <td>yadi.sk</td>\n",
       "      <td>NaN</td>\n",
       "      <td>Desktop</td>\n",
       "      <td>NaN</td>\n",
       "      <td>NaN</td>\n",
       "      <td>Windows</td>\n",
       "      <td>6.1</td>\n",
       "      <td>1.432080e+09</td>\n",
       "      <td>YandexBrowser</td>\n",
       "      <td>17.11.0.2191</td>\n",
       "      <td>535d61c000006400020000c1</td>\n",
       "      <td>535d61c000006400020010dd</td>\n",
       "      <td>535d61c00000640002002bdd</td>\n",
       "      <td>NaN</td>\n",
       "      <td>24</td>\n",
       "      <td>0</td>\n",
       "    </tr>\n",
       "  </tbody>\n",
       "</table>\n",
       "</div>"
      ],
      "text/plain": [
       "   Unnamed: 0                         SessionId                CampaignId  \\\n",
       "0           0  60B016E3CF5E2E7277D72260B1086958  5a4a49bc7bc72fabc012f95b   \n",
       "1           1  8410FB64E3BFABD92D98C219104D6F80  5a44a74b7bc72f79bc1da1c2   \n",
       "2           2  8E53D40FF207AEC423A514F84FD27D31  5a54bfa34d506ecdf013f23f   \n",
       "3           3  90AEB8E6F1DD75EC1C7472A6E924617A  59e7d5034d506e4dbca44cef   \n",
       "4           4  A7186B9A86692ADE5D82E6FA43F77F31  5a44abf67bc72f79bc1da2d8   \n",
       "\n",
       "                   BannerId  AdWidth  AdHeight  BannerWidth  BannerHeight  \\\n",
       "0  5a4a49bd7bc72fabc012fe0a    240.0     400.0          NaN           NaN   \n",
       "1  5a44a74c7bc72f79bc1da242    240.0     400.0          NaN           NaN   \n",
       "2  5a54bfa34d506ecdf013f241    160.0     600.0          NaN           NaN   \n",
       "3  59e7d5034d506e4dbca44cf1    728.0      90.0          NaN           NaN   \n",
       "4  5a44abf67bc72f79bc1da2de    300.0     250.0          NaN           NaN   \n",
       "\n",
       "              VisitorId                   ThirdPartyVisitorId  \\\n",
       "0  5fa4061c2102a296784a                  16360078791187348565   \n",
       "1  01a5bd56271580e99245      480BFB94C5C4315A3105C9B3025AE106   \n",
       "2                   NaN                   6109658587852775278   \n",
       "3  707dad23343584551441  7357370e-c32b-4692-a1c9-a50811ba1449   \n",
       "4  0a563cdd481a8e889842                   4213680716627765533   \n",
       "\n",
       "               AdvertiserId  LandingDomain BannerType ConnectionType  \\\n",
       "0  5a3231e17bc72f3644ba8232            NaN    display            NaN   \n",
       "1  53fee321af55cd917ceedfad            NaN    display            NaN   \n",
       "2  59ccbeb14d506e70c44ffe45            NaN    display            NaN   \n",
       "3  59d175027bc72f805c0b0e44            NaN    display            NaN   \n",
       "4  53fee321af55cd917ceedfad            NaN    display            NaN   \n",
       "\n",
       "  PlacementCategories  PlacementViewability  TimezoneOffset  ScreenWidth  \\\n",
       "0                  ()                   NaN             0.0          NaN   \n",
       "1           ('IAB1',)                   NaN           -10.0       1920.0   \n",
       "2       ('IAB19-18',)                   NaN             0.0          NaN   \n",
       "3        ('IAB9-30',)                   NaN           -10.0       1536.0   \n",
       "4                  ()                   NaN             0.0          NaN   \n",
       "\n",
       "   ScreenHeight  AppCategory Language PublisherId  SiteId      PlacementId  \\\n",
       "0           NaN          NaN      NaN         NaN   92550  240400yandex.kz   \n",
       "1        1080.0          NaN    ru-RU         NaN   80020           375976   \n",
       "2           NaN          NaN      NaN      346282  666469          4180379   \n",
       "3         864.0          NaN       ru       19486   17281    72890rare.ru0   \n",
       "4           NaN          NaN      NaN         NaN  104220    300250yadi.sk   \n",
       "\n",
       "        Domain AppId DeviceType DeviceCarrier DeviceModel       Os OsVersion  \\\n",
       "0    yandex.kz   NaN    Desktop           NaN         NaN  Windows       6.1   \n",
       "1  kinogb.club   NaN        NaN           NaN         NaN    Linux       NaN   \n",
       "2    skype.com   NaN    Desktop       unknown     unknown  Windows       6.2   \n",
       "3      rare.ru   NaN    Desktop           NaN         NaN  Windows      10.0   \n",
       "4      yadi.sk   NaN    Desktop           NaN         NaN  Windows       6.1   \n",
       "\n",
       "             Ip           Browser BrowserVersion                   Country  \\\n",
       "0  1.428004e+09     YandexBrowser    17.11.1.988  535d61c0000064000200007f   \n",
       "1  1.294078e+09            Chrome  38.0.2125.122  535d61c000006400020000c1   \n",
       "2  2.152046e+09  InternetExplorer           10.0  535d61c000006400020000c1   \n",
       "3  3.579276e+09            Chrome  63.0.3239.132  535d61c000006400020000c1   \n",
       "4  1.432080e+09     YandexBrowser   17.11.0.2191  535d61c000006400020000c1   \n",
       "\n",
       "                     Region                      Sity Gender  SspId  click  \n",
       "0  59e76a77fb356c24148f0dc4  59e8474c5e187f0f802b1d56  Woman     24      0  \n",
       "1  535d61c000006400020010e9  535d61c00000640002002d7e    NaN    106      0  \n",
       "2  535d61c000006400020010de  59e8474c5e187f0f802b0f6f    NaN    110      0  \n",
       "3  535d61c000006400020010e9  535d61c00000640002002d6f    NaN     25      0  \n",
       "4  535d61c000006400020010dd  535d61c00000640002002bdd    NaN     24      0  "
      ]
     },
     "execution_count": 4,
     "metadata": {},
     "output_type": "execute_result"
    }
   ],
   "source": [
    "data.head()"
   ]
  },
  {
   "cell_type": "markdown",
   "metadata": {},
   "source": [
    "**#1 Сколько кликов в представленном датасете? (поле click)**"
   ]
  },
  {
   "cell_type": "code",
   "execution_count": 5,
   "metadata": {},
   "outputs": [
    {
     "data": {
      "text/plain": [
       "7910"
      ]
     },
     "execution_count": 5,
     "metadata": {},
     "output_type": "execute_result"
    }
   ],
   "source": [
    "len(data[data['click'] == 1])"
   ]
  },
  {
   "cell_type": "markdown",
   "metadata": {},
   "source": [
    "**#2 Какой средний ctr? (click-through-rate, отношение кликов к показам)**"
   ]
  },
  {
   "cell_type": "code",
   "execution_count": 6,
   "metadata": {},
   "outputs": [
    {
     "data": {
      "text/plain": [
       "0.0018886228262631746"
      ]
     },
     "execution_count": 6,
     "metadata": {},
     "output_type": "execute_result"
    }
   ],
   "source": [
    "len(data[data['click'] == 1]) / len(data['click'])"
   ]
  },
  {
   "cell_type": "markdown",
   "metadata": {},
   "source": [
    "**#3 Поле SessionId подкразумевается как id записи. Есть в нём дубли?**"
   ]
  },
  {
   "cell_type": "code",
   "execution_count": 7,
   "metadata": {},
   "outputs": [
    {
     "data": {
      "text/plain": [
       "110"
      ]
     },
     "execution_count": 7,
     "metadata": {},
     "output_type": "execute_result"
    }
   ],
   "source": [
    "len(data['SessionId']) - len(data['SessionId'].unique()) #110 неуникальных значений"
   ]
  },
  {
   "cell_type": "markdown",
   "metadata": {},
   "source": [
    "**#4 В какой ssp (поле SspId) больше всего показов? В какой кликов? Где самый высокий ctr?**"
   ]
  },
  {
   "cell_type": "code",
   "execution_count": 8,
   "metadata": {},
   "outputs": [],
   "source": [
    "df = DataFrame()\n",
    "df['SSpId'] = data['SspId'].unique()\n",
    "df['display count'] = [len(data[data['SspId'] == i]) for i in df['SSpId']] #показы по ssp\n",
    "df['clicks'] = [len(data[(data['SspId'] == i) & (data['click'] == 1)]) for i in df['SSpId']] #клики по ssp\n",
    "df['ctr'] = [len(data[(data['SspId'] == i) & (data['click'] == 1)]) / \\\n",
    "             len(data[(data['SspId'] == i)]) for i in df['SSpId']] #ctr"
   ]
  },
  {
   "cell_type": "markdown",
   "metadata": {},
   "source": [
    "Показы"
   ]
  },
  {
   "cell_type": "code",
   "execution_count": 9,
   "metadata": {},
   "outputs": [
    {
     "data": {
      "text/plain": [
       "2    110\n",
       "Name: SSpId, dtype: int64"
      ]
     },
     "execution_count": 9,
     "metadata": {},
     "output_type": "execute_result"
    }
   ],
   "source": [
    "df[df['display count'] == df['display count'].max()]['SSpId']"
   ]
  },
  {
   "cell_type": "markdown",
   "metadata": {},
   "source": [
    "Клики"
   ]
  },
  {
   "cell_type": "code",
   "execution_count": 10,
   "metadata": {},
   "outputs": [
    {
     "data": {
      "text/plain": [
       "4    1\n",
       "Name: SSpId, dtype: int64"
      ]
     },
     "execution_count": 10,
     "metadata": {},
     "output_type": "execute_result"
    }
   ],
   "source": [
    "df[df['clicks'] == df['clicks'].max()]['SSpId']"
   ]
  },
  {
   "cell_type": "markdown",
   "metadata": {},
   "source": [
    "ctr"
   ]
  },
  {
   "cell_type": "code",
   "execution_count": 11,
   "metadata": {},
   "outputs": [
    {
     "data": {
      "text/plain": [
       "23    124\n",
       "Name: SSpId, dtype: int64"
      ]
     },
     "execution_count": 11,
     "metadata": {},
     "output_type": "execute_result"
    }
   ],
   "source": [
    "df[df['ctr'] == df['ctr'].max()]['SSpId']"
   ]
  },
  {
   "cell_type": "markdown",
   "metadata": {},
   "source": [
    "**#5 На каких 3-х сайтах (SiteId) больше всего кликов? На каких ssp крутятся эти сайты?**"
   ]
  },
  {
   "cell_type": "code",
   "execution_count": 12,
   "metadata": {},
   "outputs": [
    {
     "name": "stdout",
     "output_type": "stream",
     "text": [
      "Wall time: 10.6 s\n"
     ]
    }
   ],
   "source": [
    "%%time\n",
    "df_2 = DataFrame()\n",
    "df_2['SiteId'] = sample_data['SiteId'].unique() #клики по SiteId\n",
    "df_2['Clicks'] = [len(sample_data[(sample_data['SiteId'] == i) & (sample_data['click'] == 1)]) for i in df_2['SiteId']] #клики\n",
    "df_2['SspId'] = [sample_data[sample_data['SiteId'] == i]['SspId'] for i in df_2['SiteId']] #sspid\n"
   ]
  },
  {
   "cell_type": "code",
   "execution_count": 13,
   "metadata": {},
   "outputs": [
    {
     "data": {
      "text/html": [
       "<div>\n",
       "<style scoped>\n",
       "    .dataframe tbody tr th:only-of-type {\n",
       "        vertical-align: middle;\n",
       "    }\n",
       "\n",
       "    .dataframe tbody tr th {\n",
       "        vertical-align: top;\n",
       "    }\n",
       "\n",
       "    .dataframe thead th {\n",
       "        text-align: right;\n",
       "    }\n",
       "</style>\n",
       "<table border=\"1\" class=\"dataframe\">\n",
       "  <thead>\n",
       "    <tr style=\"text-align: right;\">\n",
       "      <th></th>\n",
       "      <th>SiteId</th>\n",
       "      <th>Clicks</th>\n",
       "      <th>SspId</th>\n",
       "    </tr>\n",
       "  </thead>\n",
       "  <tbody>\n",
       "    <tr>\n",
       "      <th>58</th>\n",
       "      <td>476843</td>\n",
       "      <td>2</td>\n",
       "      <td>2010462    1\n",
       "3343907    1\n",
       "4076418    1\n",
       "3120528...</td>\n",
       "    </tr>\n",
       "    <tr>\n",
       "      <th>75</th>\n",
       "      <td>267463</td>\n",
       "      <td>2</td>\n",
       "      <td>2834715    1\n",
       "585760     1\n",
       "1246782    1\n",
       "4091816...</td>\n",
       "    </tr>\n",
       "    <tr>\n",
       "      <th>78</th>\n",
       "      <td>32348</td>\n",
       "      <td>1</td>\n",
       "      <td>2276794    111\n",
       "2580865    111\n",
       "1804061    111\n",
       "2...</td>\n",
       "    </tr>\n",
       "  </tbody>\n",
       "</table>\n",
       "</div>"
      ],
      "text/plain": [
       "    SiteId  Clicks                                              SspId\n",
       "58  476843       2  2010462    1\n",
       "3343907    1\n",
       "4076418    1\n",
       "3120528...\n",
       "75  267463       2  2834715    1\n",
       "585760     1\n",
       "1246782    1\n",
       "4091816...\n",
       "78   32348       1  2276794    111\n",
       "2580865    111\n",
       "1804061    111\n",
       "2..."
      ]
     },
     "execution_count": 13,
     "metadata": {},
     "output_type": "execute_result"
    }
   ],
   "source": [
    "larg = df_2.nlargest(3, 'Clicks') #сайты с топ-3 кликами\n",
    "df_2.nlargest(3, 'Clicks')"
   ]
  },
  {
   "cell_type": "code",
   "execution_count": 14,
   "metadata": {},
   "outputs": [
    {
     "data": {
      "text/plain": [
       "[58    2010462    1\n",
       " 3343907    1\n",
       " 4076418    1\n",
       " 3120528...\n",
       " Name: SspId, dtype: object, 75    2834715    1\n",
       " 585760     1\n",
       " 1246782    1\n",
       " 4091816...\n",
       " Name: SspId, dtype: object, 78    2276794    111\n",
       " 2580865    111\n",
       " 1804061    111\n",
       " 2...\n",
       " Name: SspId, dtype: object]"
      ]
     },
     "execution_count": 14,
     "metadata": {},
     "output_type": "execute_result"
    }
   ],
   "source": [
    "[df_2[df_2['SiteId'] == i]['SspId'] for i in larg['SiteId']] #их ssp"
   ]
  },
  {
   "cell_type": "markdown",
   "metadata": {},
   "source": [
    "**#6 Сколько уникальных пользователей в выборке (поле VisitorId)? Сколько показов увидел самый активный? Сколько кликов сделал самый активный?**"
   ]
  },
  {
   "cell_type": "code",
   "execution_count": 15,
   "metadata": {},
   "outputs": [
    {
     "name": "stdout",
     "output_type": "stream",
     "text": [
      "Wall time: 1min 1s\n"
     ]
    }
   ],
   "source": [
    "%%time\n",
    "df_3 = DataFrame()\n",
    "df_3['VisitorId'] = sample_data['VisitorId'].unique() #уникальных посещений\n",
    "df_3['display seen'] = [len(sample_data[(sample_data['VisitorId'] == i)]) for i in df_3['VisitorId']] #показы\n",
    "df_3['clicks done'] = [len(sample_data[(sample_data['VisitorId'] == i) & (sample_data['click'] == 1)]) for i in df_3['VisitorId']] #клики\n"
   ]
  },
  {
   "cell_type": "code",
   "execution_count": 16,
   "metadata": {},
   "outputs": [
    {
     "data": {
      "text/plain": [
       "9226"
      ]
     },
     "execution_count": 16,
     "metadata": {},
     "output_type": "execute_result"
    }
   ],
   "source": [
    "len(df_3['VisitorId']) #Сколько уникальных пользователей в выборке"
   ]
  },
  {
   "cell_type": "code",
   "execution_count": 17,
   "metadata": {},
   "outputs": [
    {
     "data": {
      "text/plain": [
       "27"
      ]
     },
     "execution_count": 17,
     "metadata": {},
     "output_type": "execute_result"
    }
   ],
   "source": [
    "df_3['display seen'].max() #Сколько показов увидел самый активный?"
   ]
  },
  {
   "cell_type": "code",
   "execution_count": 18,
   "metadata": {},
   "outputs": [
    {
     "data": {
      "text/plain": [
       "1"
      ]
     },
     "execution_count": 18,
     "metadata": {},
     "output_type": "execute_result"
    }
   ],
   "source": [
    "df_3['clicks done'].max() #Сколько кликов сделал самый активный?"
   ]
  },
  {
   "cell_type": "markdown",
   "metadata": {},
   "source": [
    "**#7 Какой самый популярный размер объявления (поля AdWidth и AdHeight, хоть они и разнесены в 2 поля, они являются одной сущностью - размером рекламы), по кликам и по показам.**"
   ]
  },
  {
   "cell_type": "code",
   "execution_count": 19,
   "metadata": {},
   "outputs": [],
   "source": [
    "df_4 = DataFrame()\n",
    "\n",
    "df_4['AdSize'] = sample_data[['AdWidth','AdHeight']].values.tolist()\n",
    "df_4['seen'] = [len(sample_data[(sample_data['AdWidth'] == i[0]) & (sample_data['AdHeight'] == i[1])]) for i in df_4['AdSize']]\n",
    "df_4['clicks'] = [len(sample_data[(sample_data['AdWidth'] == i[0]) & (sample_data['AdHeight'] == i[1]) & (sample_data['click'] == 1)]) for i in df_4['AdSize']]"
   ]
  },
  {
   "cell_type": "markdown",
   "metadata": {},
   "source": [
    "Так и не понял как сделать уникальные значения AdSize, так что пока так"
   ]
  },
  {
   "cell_type": "code",
   "execution_count": 20,
   "metadata": {},
   "outputs": [
    {
     "data": {
      "text/html": [
       "<div>\n",
       "<style scoped>\n",
       "    .dataframe tbody tr th:only-of-type {\n",
       "        vertical-align: middle;\n",
       "    }\n",
       "\n",
       "    .dataframe tbody tr th {\n",
       "        vertical-align: top;\n",
       "    }\n",
       "\n",
       "    .dataframe thead th {\n",
       "        text-align: right;\n",
       "    }\n",
       "</style>\n",
       "<table border=\"1\" class=\"dataframe\">\n",
       "  <thead>\n",
       "    <tr style=\"text-align: right;\">\n",
       "      <th></th>\n",
       "      <th>AdSize</th>\n",
       "      <th>seen</th>\n",
       "      <th>clicks</th>\n",
       "    </tr>\n",
       "  </thead>\n",
       "  <tbody>\n",
       "    <tr>\n",
       "      <th>3</th>\n",
       "      <td>[300.0, 250.0]</td>\n",
       "      <td>3988</td>\n",
       "      <td>8</td>\n",
       "    </tr>\n",
       "  </tbody>\n",
       "</table>\n",
       "</div>"
      ],
      "text/plain": [
       "           AdSize  seen  clicks\n",
       "3  [300.0, 250.0]  3988       8"
      ]
     },
     "execution_count": 20,
     "metadata": {},
     "output_type": "execute_result"
    }
   ],
   "source": [
    "df_4.nlargest(1, 'seen') #самый популярный размер по показам"
   ]
  },
  {
   "cell_type": "code",
   "execution_count": 21,
   "metadata": {},
   "outputs": [
    {
     "data": {
      "text/html": [
       "<div>\n",
       "<style scoped>\n",
       "    .dataframe tbody tr th:only-of-type {\n",
       "        vertical-align: middle;\n",
       "    }\n",
       "\n",
       "    .dataframe tbody tr th {\n",
       "        vertical-align: top;\n",
       "    }\n",
       "\n",
       "    .dataframe thead th {\n",
       "        text-align: right;\n",
       "    }\n",
       "</style>\n",
       "<table border=\"1\" class=\"dataframe\">\n",
       "  <thead>\n",
       "    <tr style=\"text-align: right;\">\n",
       "      <th></th>\n",
       "      <th>AdSize</th>\n",
       "      <th>seen</th>\n",
       "      <th>clicks</th>\n",
       "    </tr>\n",
       "  </thead>\n",
       "  <tbody>\n",
       "    <tr>\n",
       "      <th>3</th>\n",
       "      <td>[300.0, 250.0]</td>\n",
       "      <td>3988</td>\n",
       "      <td>8</td>\n",
       "    </tr>\n",
       "  </tbody>\n",
       "</table>\n",
       "</div>"
      ],
      "text/plain": [
       "           AdSize  seen  clicks\n",
       "3  [300.0, 250.0]  3988       8"
      ]
     },
     "execution_count": 21,
     "metadata": {},
     "output_type": "execute_result"
    }
   ],
   "source": [
    "df_4.nlargest(1, 'clicks') #по кликам"
   ]
  },
  {
   "cell_type": "markdown",
   "metadata": {},
   "source": [
    "**#8 Если получится построить решающее дерево. По какому признаку оно разделит датасет на первом шаге?**"
   ]
  },
  {
   "cell_type": "code",
   "execution_count": null,
   "metadata": {},
   "outputs": [],
   "source": [
    "from sklearn.tree import DecisionTreeClassifier\n",
    "from sklearn.preprocessing import LabelEncoder\n",
    "from sklearn.model_selection import train_test_split\n",
    "from collections import defaultdict\n",
    "from sklearn.metrics import accuracy_score\n",
    "\n",
    "#выбираем фичи и удаляем пустые ряды\n",
    "Features = ['AdWidth', 'AdHeight', 'AdvertiserId', 'ScreenWidth',\n",
    "            'ScreenHeight', 'SiteId', 'Domain', 'DeviceType', 'Os', 'OsVersion', 'Browser', 'BrowserVersion', 'Country', \n",
    "            'Region', 'Sity', 'SspId', 'click']\n",
    "\n",
    "#эти фичи привести к категориальному виду\n",
    "categorical_Features = ['AdvertiserId', 'SiteId', 'Domain', 'DeviceType', 'Os', 'OsVersion', 'Browser', 'BrowserVersion', 'Country', \n",
    "                        'Region', 'Sity']\n",
    "\n",
    "\n",
    "X = data[Features].dropna()\n",
    "Y = X['click']\n",
    "X = X[Features[:-1]]\n",
    "d = defaultdict(LabelEncoder)\n",
    "\n",
    "#приводим к категориальному виду\n",
    "le = LabelEncoder()\n",
    "X[categorical_Features] = X[categorical_Features].apply(lambda x: d[x.name].fit_transform(x))\n",
    "\n",
    "#разделяем датасет\n",
    "train_X, test_X, train_Y, test_Y = train_test_split(X, Y)\n",
    "\n",
    "#обучаем дерево\n",
    "tree = DecisionTreeClassifier(criterion='entropy', max_depth=5000)\n",
    "tree.fit(train_X, train_Y)\n",
    "\n",
    "predictions = tree.predict(test_X)\n",
    "accuracy_score(test_Y, predictions) #что-то пошло не так и получилось 99,7%"
   ]
  },
  {
   "cell_type": "markdown",
   "metadata": {},
   "source": [
    "**#9 Задача предсказание кликнет пользователь или нет, это регрессия или классификация, почему?**"
   ]
  },
  {
   "cell_type": "markdown",
   "metadata": {},
   "source": [
    "Классификация, так как предсказываем вероятность клика (от 0 до 1), а не, например, цену земли в районе."
   ]
  }
 ],
 "metadata": {
  "kernelspec": {
   "display_name": "Python 3",
   "language": "python",
   "name": "python3"
  },
  "language_info": {
   "codemirror_mode": {
    "name": "ipython",
    "version": 3
   },
   "file_extension": ".py",
   "mimetype": "text/x-python",
   "name": "python",
   "nbconvert_exporter": "python",
   "pygments_lexer": "ipython3",
   "version": "3.6.7"
  }
 },
 "nbformat": 4,
 "nbformat_minor": 2
}
